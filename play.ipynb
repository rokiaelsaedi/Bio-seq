{
 "cells": [
  {
   "cell_type": "markdown",
   "id": "8d40af16",
   "metadata": {},
   "source": [
    "<p style=\"background-color:#2E86C1; color:#FFFFFF; font-family:ui-rounded; font-size:250%; text-align:center; border-radius:30px 30px;\">BioSeqExplorer</p>\n"
   ]
  },
  {
   "cell_type": "markdown",
   "id": "24885c78",
   "metadata": {},
   "source": [
    "<p style=\"background-color:#D2D4C8;font-family:ui-rounded;color:#FF0000;font-size:150%;text-align:center;border-radius:10px 10px;\">Import Needed Libraries</p>\n"
   ]
  },
  {
   "cell_type": "code",
   "execution_count": 10,
   "id": "b348a0fd",
   "metadata": {},
   "outputs": [],
   "source": [
    "import tkinter as tk\n",
    "from tkinter import ttk\n",
    "from tkinter import *\n",
    "from tkinter import filedialog\n",
    "from Bio import SeqIO\n",
    "from Bio.SeqUtils import gc_fraction\n",
    "from Bio.Seq import Seq\n"
   ]
  },
  {
   "cell_type": "markdown",
   "id": "05d5cd34",
   "metadata": {},
   "source": [
    "<p style=\"background-color:#D2D4C8; font-family: 'Arial Rounded MT Bold', sans-serif; color:#000000; font-size:120%; text-align:center; padding: 10px; border-radius:10px;\">GUI Initialization</p>\n"
   ]
  },
  {
   "cell_type": "code",
   "execution_count": 11,
   "id": "a94a1d8e",
   "metadata": {},
   "outputs": [
    {
     "data": {
      "text/plain": [
       "''"
      ]
     },
     "execution_count": 11,
     "metadata": {},
     "output_type": "execute_result"
    }
   ],
   "source": [
    "gui = tk.Tk()\n",
    "gui.geometry('920x520')\n",
    "gui.title('Bio Python Project')"
   ]
  },
  {
   "cell_type": "markdown",
   "id": "0a4ca66b",
   "metadata": {},
   "source": [
    "<p style=\"background-color:#D2D4C8; font-family: 'Arial Rounded MT Bold', sans-serif; color:#000000; font-size:120%; text-align:center; padding: 10px; border-radius:10px;\">  Function for uploading a file\n",
    "</p>\n"
   ]
  },
  {
   "cell_type": "code",
   "execution_count": 12,
   "id": "2e9afe42",
   "metadata": {},
   "outputs": [],
   "source": [
    "def upload_file():\n",
    "    file = filedialog.askopenfilename(filetypes=[('fasta files', '*.fasta')])\n",
    "    e1.delete(0, tk.END)\n",
    "    e1.insert(tk.END, file)\n",
    "    populate_ids(file)"
   ]
  },
  {
   "cell_type": "markdown",
   "id": "15c95258",
   "metadata": {},
   "source": [
    "<p style=\"background-color:#D2D4C8; font-family: 'Arial Rounded MT Bold', sans-serif; color:#000000; font-size:120%; text-align:center; padding: 10px; border-radius:10px;\"> Function for reading and analyzing data</p>\n"
   ]
  },
  {
   "cell_type": "code",
   "execution_count": 13,
   "id": "56d6be1d",
   "metadata": {},
   "outputs": [],
   "source": [
    "def populate_ids(file):\n",
    "    global id_list\n",
    "    id_list = []\n",
    "    for seq_record in SeqIO.parse(file, 'fasta'):\n",
    "        id_list.append(seq_record.id)\n",
    "    lb.delete(0, END)\n",
    "    for id in id_list:\n",
    "        lb.insert(END, id)\n",
    "\n",
    "def read_data():\n",
    "    file = e1.get()\n",
    "    if lb.curselection():\n",
    "        selected_id = lb.get(lb.curselection()[0])\n",
    "        if selected_id in selected_ids:\n",
    "            show_alert(\"This sequence is already chosen\")\n",
    "            return\n",
    "        selected_ids.append(selected_id)\n",
    "        \n",
    "        record = None\n",
    "        for seq_record in SeqIO.parse(file, 'fasta'):\n",
    "            if seq_record.id == selected_id:\n",
    "                record = seq_record\n",
    "                break\n",
    "\n",
    "        if record:\n",
    "            output_text.delete('1.0', tk.END)\n",
    "            output_text1.delete('1.0', tk.END)\n",
    "            output_text2.delete('1.0', tk.END)\n",
    "            output_text3.delete('1.0', tk.END)\n",
    "\n",
    "            seq = str(record.seq)\n",
    "            count_GC = countGC(record.seq)\n",
    "            RevCom = ReverseComplement(record.seq)\n",
    "            Rna = RNA(record.seq)\n",
    "\n",
    "            output_text.insert(tk.END, f\" {record}\\n\")\n",
    "            output_text1.insert(tk.END, f\"GC content: {count_GC}\\n\")\n",
    "            output_text2.insert(tk.END, f\"Reverse Complement: {RevCom}\\n\")\n",
    "            output_text3.insert(tk.END, f\"RNA Sequence: {Rna}\\n\")\n",
    "    else:\n",
    "        show_alert(\"Please select an ID\")\n"
   ]
  },
  {
   "cell_type": "markdown",
   "id": "42382c0b",
   "metadata": {},
   "source": [
    "<p style=\"background-color:#D2D4C8; font-family: 'Arial Rounded MT Bold', sans-serif; color:#000000; font-size:120%; text-align:center; padding: 10px; border-radius:10px;\"> Function for calculating GC content</p>\n"
   ]
  },
  {
   "cell_type": "code",
   "execution_count": 14,
   "id": "f4d0918a",
   "metadata": {},
   "outputs": [],
   "source": [
    "def countGC(seq):\n",
    "    gc_count = gc_fraction(seq)\n",
    "    return gc_count"
   ]
  },
  {
   "cell_type": "markdown",
   "id": "0b62271a",
   "metadata": {},
   "source": [
    "<p style=\"background-color:#D2D4C8; font-family: 'Arial Rounded MT Bold', sans-serif; color:#000000; font-size:120%; text-align:center; padding: 10px; border-radius:10px;\">  Function for generating reverse complement</p>\n"
   ]
  },
  {
   "cell_type": "code",
   "execution_count": 15,
   "id": "a6511eb9",
   "metadata": {},
   "outputs": [],
   "source": [
    "def ReverseComplement(seq):\n",
    "    bio_seq = Seq(seq)\n",
    "    return str(bio_seq.reverse_complement())"
   ]
  },
  {
   "cell_type": "markdown",
   "id": "68eeef56",
   "metadata": {},
   "source": [
    "<p style=\"background-color:#D2D4C8; font-family: 'Arial Rounded MT Bold', sans-serif; color:#000000; font-size:120%; text-align:center; padding: 10px; border-radius:10px;\">  Function for transcribing RNA</p>\n"
   ]
  },
  {
   "cell_type": "code",
   "execution_count": 16,
   "id": "8c4b6466",
   "metadata": {},
   "outputs": [],
   "source": [
    "def RNA(seq):\n",
    "    bio_seq = Seq(seq)\n",
    "    return str(bio_seq.transcribe())\n"
   ]
  },
  {
   "cell_type": "markdown",
   "id": "48f2b3bf",
   "metadata": {},
   "source": [
    "<p style=\"background-color:#D2D4C8; font-family: 'Arial Rounded MT Bold', sans-serif; color:#000000; font-size:120%; text-align:center; padding: 10px; border-radius:10px;\">  Function for ALERT</p>\n"
   ]
  },
  {
   "cell_type": "code",
   "execution_count": 17,
   "id": "3dc6273b",
   "metadata": {},
   "outputs": [],
   "source": [
    "def show_alert(message):\n",
    "    alert_window = tk.Toplevel()\n",
    "    alert_window.geometry('250x150')\n",
    "    alert_window.title('Alert')\n",
    "    lbl = tk.Label(alert_window, text=message)\n",
    "    lbl.pack()"
   ]
  },
  {
   "cell_type": "markdown",
   "id": "bb786ca1",
   "metadata": {},
   "source": [
    "<p style=\"background-color:#D2D4C8;font-family:ui-rounded;color:#FF0000;font-size:150%;text-align:center;border-radius:10px 10px;\">GUI Components</p>\n"
   ]
  },
  {
   "cell_type": "code",
   "execution_count": 18,
   "id": "a5d9dc3f",
   "metadata": {},
   "outputs": [],
   "source": [
    "\n",
    "LabelFrame1 = ttk.LabelFrame(gui, text=\"Loading data\")\n",
    "LabelFrame1.pack(fill=\"both\", ipadx=5, ipady=5)\n",
    "\n",
    "label1 = tk.Label(LabelFrame1, text=\"Select Fasta File:\")\n",
    "label1.grid(row=0, column=0)\n",
    "\n",
    "e1 = tk.Entry(LabelFrame1, width=50,bg='black', fg='white')\n",
    "e1.grid(row=0, column=1)\n",
    "\n",
    "button1 = tk.Button(LabelFrame1, text='open', command=upload_file, bg=\"white\", fg=\"black\")\n",
    "button1.grid(row=0, column=2)\n",
    "\n",
    "LabelFrame2 = ttk.LabelFrame(gui, text=\"Information\")\n",
    "LabelFrame2.pack(fill=\"both\", ipadx=10, ipady=10)\n",
    "\n",
    "label2 = tk.Label(LabelFrame2, text=\"Select Record ID:\")\n",
    "label2.grid(row=0, column=0)\n",
    "\n",
    "lb = Listbox(LabelFrame2, selectmode=SINGLE,bg='black', fg='white')\n",
    "lb.grid(row=0, column=1)\n",
    "\n",
    "LabelFrame3 = ttk.LabelFrame(gui, text=\"Result\")\n",
    "LabelFrame3.pack(fill=\"both\", ipadx=10, ipady=10)\n",
    "\n",
    "output_text = tk.Text(LabelFrame3, height=10, width=50, bg='black', fg='white')\n",
    "output_text.grid(row=0, column=0)\n",
    "\n",
    "output_text1 = tk.Text(LabelFrame3, height=10, width=50, bg='black', fg='white')\n",
    "output_text1.grid(row=0, column=1)\n",
    "\n",
    "output_text2 = tk.Text(LabelFrame3, height=10, width=50, bg='black', fg='white')\n",
    "output_text2.grid(row=1, column=0)\n",
    "\n",
    "output_text3 = tk.Text(LabelFrame3, height=10, width=50, bg='black', fg='white')\n",
    "output_text3.grid(row=1, column=1)\n",
    "\n",
    "button2 = tk.Button(LabelFrame2, text=\"Read Record\", command=read_data, bg=\"white\", fg=\"black\")\n",
    "button2.grid(row=0, column=2)\n",
    "\n",
    "selected_ids = []\n",
    "\n",
    "gui.mainloop()\n"
   ]
  },
  {
   "cell_type": "code",
   "execution_count": null,
   "id": "e0efd883",
   "metadata": {},
   "outputs": [],
   "source": []
  },
  {
   "cell_type": "code",
   "execution_count": null,
   "id": "b6fd99e8",
   "metadata": {},
   "outputs": [],
   "source": []
  }
 ],
 "metadata": {
  "kernelspec": {
   "display_name": "Python 3 (ipykernel)",
   "language": "python",
   "name": "python3"
  },
  "language_info": {
   "codemirror_mode": {
    "name": "ipython",
    "version": 3
   },
   "file_extension": ".py",
   "mimetype": "text/x-python",
   "name": "python",
   "nbconvert_exporter": "python",
   "pygments_lexer": "ipython3",
   "version": "3.10.9"
  }
 },
 "nbformat": 4,
 "nbformat_minor": 5
}
